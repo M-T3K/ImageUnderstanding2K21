{
 "cells": [
  {
   "cell_type": "markdown",
   "metadata": {},
   "source": [
    "# Propuesta de Proyecto\r\n",
    "## Image Understanding\r\n",
    "\r\n",
    "### Authors\r\n",
    "\r\n",
    "- Jorge López Rosende\r\n",
    "- Rafael Martín Lesmes\r\n",
    "- José Vences Rodríguez\r\n",
    "- Manuel Rincón Martínez\r\n",
    "- Kévin Alberto López Porcheron\r\n",
    "\r\n",
    "## What is the problem that you will be investigating?\r\n",
    "\r\n",
    "We are going to analyse the images in the dataset to develop a classifier capable of determinating wether a given image is cancer positive.\r\n",
    "\r\n",
    "## What data will you use?\r\n",
    "\r\n",
    "We are going to explore the [colorectal_histology](https://www.tensorflow.org/datasets/catalog/colorectal_histology) dataset from Tensorflow's database of Image Classification datasets.\r\n",
    "\r\n",
    "## Describe the data you will use\r\n",
    "\r\n",
    "Tensorflow's [colorectal_histology](https://www.tensorflow.org/datasets/catalog/colorectal_histology) dataset contains 5000 150x150x3 RGB images that can be from one of eight different classes. The total size of the dataset is `246.14 MiB`.\r\n",
    "\r\n",
    "## Preliminary exploratory analysis of the data\r\n",
    "\r\n",
    "\r\n"
   ]
  },
  {
   "cell_type": "code",
   "execution_count": null,
   "metadata": {},
   "outputs": [],
   "source": []
  }
 ],
 "metadata": {
  "kernelspec": {
   "display_name": "Python 3.8.1 64-bit",
   "name": "python381jvsc74a57bd02db524e06e9f5f4ffedc911c917cb75e12dbc923643829bf417064a77eb14d37"
  },
  "language_info": {
   "name": "python",
   "version": ""
  },
  "metadata": {
   "interpreter": {
    "hash": "2db524e06e9f5f4ffedc911c917cb75e12dbc923643829bf417064a77eb14d37"
   }
  },
  "orig_nbformat": 2
 },
 "nbformat": 4,
 "nbformat_minor": 2
}